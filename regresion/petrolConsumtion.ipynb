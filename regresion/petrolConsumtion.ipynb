{
 "metadata": {
  "language_info": {
   "codemirror_mode": {
    "name": "ipython",
    "version": 3
   },
   "file_extension": ".py",
   "mimetype": "text/x-python",
   "name": "python",
   "nbconvert_exporter": "python",
   "pygments_lexer": "ipython3",
   "version": "3.8.5"
  },
  "orig_nbformat": 2,
  "kernelspec": {
   "name": "python385jvsc74a57bd031f2aee4e71d21fbe5cf8b01ff0e069b9275f58929596ceb00d14d90e3e16cd6",
   "display_name": "Python 3.8.5 64-bit"
  },
  "metadata": {
   "interpreter": {
    "hash": "31f2aee4e71d21fbe5cf8b01ff0e069b9275f58929596ceb00d14d90e3e16cd6"
   }
  }
 },
 "nbformat": 4,
 "nbformat_minor": 2,
 "cells": [
  {
   "cell_type": "code",
   "execution_count": 3,
   "metadata": {},
   "outputs": [],
   "source": [
    "import pandas as pd\n",
    "import numpy as np\n",
    "import tensorflow as tf\n",
    "import matplotlib.pyplot as plt\n",
    "%matplotlib inline"
   ]
  },
  {
   "cell_type": "code",
   "execution_count": 4,
   "metadata": {},
   "outputs": [
    {
     "output_type": "stream",
     "name": "stdout",
     "text": [
      "2.5.0\n"
     ]
    }
   ],
   "source": [
    "print(tf.__version__)"
   ]
  },
  {
   "cell_type": "code",
   "execution_count": 77,
   "metadata": {},
   "outputs": [],
   "source": [
    "cols = ['Petrol_tax', 'Average_income',\t'Paved_Highways', 'Population_Driver_licence', 'Petrol_Consumption']\n",
    "dsPC = pd.read_csv(r'~/Escritorio/tia_actividad_002/regresion/petrol_consumption.csv', header=None)"
   ]
  },
  {
   "cell_type": "code",
   "execution_count": 78,
   "metadata": {},
   "outputs": [
    {
     "output_type": "execute_result",
     "data": {
      "text/plain": [
       "(49, 5)"
      ]
     },
     "metadata": {},
     "execution_count": 78
    }
   ],
   "source": [
    "dsPC.shape"
   ]
  },
  {
   "cell_type": "code",
   "execution_count": 79,
   "metadata": {},
   "outputs": [
    {
     "output_type": "stream",
     "name": "stdout",
     "text": [
      "<class 'pandas.core.frame.DataFrame'>\nRangeIndex: 49 entries, 0 to 48\nData columns (total 5 columns):\n0    49 non-null object\n1    49 non-null object\n2    49 non-null object\n3    49 non-null object\n4    49 non-null object\ndtypes: object(5)\nmemory usage: 2.0+ KB\n"
     ]
    }
   ],
   "source": [
    "dsPC.info()"
   ]
  },
  {
   "cell_type": "code",
   "execution_count": 80,
   "metadata": {},
   "outputs": [
    {
     "output_type": "execute_result",
     "data": {
      "text/plain": [
       "            0                1                2                           3  \\\n",
       "0  Petrol_tax   Average_income   Paved_Highways   Population_Driver_licence   \n",
       "1        9.00             3571             1976                      0.5250   \n",
       "2        9.00             4092             1250                      0.5720   \n",
       "3        9.00             3865             1586                      0.5800   \n",
       "4        7.50             4870             2351                      0.5290   \n",
       "\n",
       "                     4  \n",
       "0   Petrol_Consumption  \n",
       "1                  541  \n",
       "2                  524  \n",
       "3                  561  \n",
       "4                  414  "
      ],
      "text/html": "<div>\n<style scoped>\n    .dataframe tbody tr th:only-of-type {\n        vertical-align: middle;\n    }\n\n    .dataframe tbody tr th {\n        vertical-align: top;\n    }\n\n    .dataframe thead th {\n        text-align: right;\n    }\n</style>\n<table border=\"1\" class=\"dataframe\">\n  <thead>\n    <tr style=\"text-align: right;\">\n      <th></th>\n      <th>0</th>\n      <th>1</th>\n      <th>2</th>\n      <th>3</th>\n      <th>4</th>\n    </tr>\n  </thead>\n  <tbody>\n    <tr>\n      <th>0</th>\n      <td>Petrol_tax</td>\n      <td>Average_income</td>\n      <td>Paved_Highways</td>\n      <td>Population_Driver_licence</td>\n      <td>Petrol_Consumption</td>\n    </tr>\n    <tr>\n      <th>1</th>\n      <td>9.00</td>\n      <td>3571</td>\n      <td>1976</td>\n      <td>0.5250</td>\n      <td>541</td>\n    </tr>\n    <tr>\n      <th>2</th>\n      <td>9.00</td>\n      <td>4092</td>\n      <td>1250</td>\n      <td>0.5720</td>\n      <td>524</td>\n    </tr>\n    <tr>\n      <th>3</th>\n      <td>9.00</td>\n      <td>3865</td>\n      <td>1586</td>\n      <td>0.5800</td>\n      <td>561</td>\n    </tr>\n    <tr>\n      <th>4</th>\n      <td>7.50</td>\n      <td>4870</td>\n      <td>2351</td>\n      <td>0.5290</td>\n      <td>414</td>\n    </tr>\n  </tbody>\n</table>\n</div>"
     },
     "metadata": {},
     "execution_count": 80
    }
   ],
   "source": [
    "dsPC.head()"
   ]
  },
  {
   "cell_type": "code",
   "execution_count": 67,
   "metadata": {},
   "outputs": [
    {
     "output_type": "stream",
     "name": "stdout",
     "text": [
      "(48, 4)\n"
     ]
    }
   ],
   "source": [
    "X = dsPC.iloc[:, 0:4].values\n",
    "y = dsPC.iloc[:, 4].values"
   ]
  },
  {
   "cell_type": "code",
   "execution_count": 12,
   "metadata": {},
   "outputs": [],
   "source": [
    "from sklearn.model_selection import train_test_split\n",
    "X_train, X_test, y_train, y_test = train_test_split(X, y, test_size=0.2, random_state=0)"
   ]
  },
  {
   "cell_type": "code",
   "execution_count": 65,
   "metadata": {},
   "outputs": [],
   "source": [
    "from sklearn.preprocessing import StandardScaler\n",
    "\n",
    "sc = StandardScaler()\n",
    "X_train = sc.fit_transform(X_train)\n",
    "X_test = sc.transform(X_test)"
   ]
  },
  {
   "cell_type": "code",
   "execution_count": 64,
   "metadata": {},
   "outputs": [
    {
     "output_type": "error",
     "ename": "TypeError",
     "evalue": "raw_input() got an unexpected keyword argument 'shape'",
     "traceback": [
      "\u001b[0;31m---------------------------------------------------------------------------\u001b[0m",
      "\u001b[0;31mTypeError\u001b[0m                                 Traceback (most recent call last)",
      "\u001b[0;32m<ipython-input-64-d776fdee19a6>\u001b[0m in \u001b[0;36m<module>\u001b[0;34m\u001b[0m\n\u001b[0;32m----> 1\u001b[0;31m \u001b[0minput_layer\u001b[0m \u001b[0;34m=\u001b[0m \u001b[0minput\u001b[0m\u001b[0;34m(\u001b[0m\u001b[0mshape\u001b[0m\u001b[0;34m=\u001b[0m\u001b[0;36m4\u001b[0m\u001b[0;34m)\u001b[0m\u001b[0;34m\u001b[0m\u001b[0;34m\u001b[0m\u001b[0m\n\u001b[0m\u001b[1;32m      2\u001b[0m \u001b[0;31m#dense_layer_1 = Dense(100, activation='relu')(input_layer)\u001b[0m\u001b[0;34m\u001b[0m\u001b[0;34m\u001b[0m\u001b[0;34m\u001b[0m\u001b[0m\n\u001b[1;32m      3\u001b[0m \u001b[0;31m#dense_layer_2 = Dense(50, activation='relu')(dense_layer_1)\u001b[0m\u001b[0;34m\u001b[0m\u001b[0;34m\u001b[0m\u001b[0;34m\u001b[0m\u001b[0m\n\u001b[1;32m      4\u001b[0m \u001b[0;31m#dense_layer_3 = Dense(25, activation='relu')(dense_layer_2)\u001b[0m\u001b[0;34m\u001b[0m\u001b[0;34m\u001b[0m\u001b[0;34m\u001b[0m\u001b[0m\n\u001b[1;32m      5\u001b[0m \u001b[0;31m#output = Dense(1)(dense_layer_3)\u001b[0m\u001b[0;34m\u001b[0m\u001b[0;34m\u001b[0m\u001b[0;34m\u001b[0m\u001b[0m\n",
      "\u001b[0;31mTypeError\u001b[0m: raw_input() got an unexpected keyword argument 'shape'"
     ]
    }
   ],
   "source": [
    "input_layer = input(shape=4)\n",
    "#dense_layer_1 = Dense(100, activation='relu')(input_layer)\n",
    "#dense_layer_2 = Dense(50, activation='relu')(dense_layer_1)\n",
    "#dense_layer_3 = Dense(25, activation='relu')(dense_layer_2)\n",
    "#output = Dense(1)(dense_layer_3)\n",
    "\n",
    "#model = Model(inputs=input_layer, outputs=output)\n",
    "#model.compile(loss=\"mean_squared_error\" , optimizer=\"adam\", metrics=[\"mean_squared_error\"])"
   ]
  },
  {
   "cell_type": "code",
   "execution_count": null,
   "metadata": {},
   "outputs": [],
   "source": []
  }
 ]
}